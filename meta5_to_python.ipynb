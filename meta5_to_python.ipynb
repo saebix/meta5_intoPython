import MetaTrader5 as mt5
import pandas as pd
from datetime import datetime

# Initialize MetaTrader 5
mt5.initialize()

# Define start and end dates
start_date = datetime(2024, 1, 1)
end_date = datetime(2024, 4, 1)

# Define the timeframe (15-minute candles)
timeframe = mt5.TIMEFRAME_M15

# Fetch historical data
ohlc = pd.DataFrame(mt5.copy_rates_range('XAUUSD_i', timeframe, start_time, end_time))

ohlc.head()

# Shut down MetaTrader 5
mt5.shutdown()
